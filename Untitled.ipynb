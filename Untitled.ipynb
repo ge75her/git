{
 "cells": [
  {
   "cell_type": "code",
   "execution_count": 2,
   "id": "d816a02f",
   "metadata": {},
   "outputs": [],
   "source": [
    "import pandas as pd"
   ]
  },
  {
   "cell_type": "code",
   "execution_count": 5,
   "id": "6ac269ff",
   "metadata": {},
   "outputs": [],
   "source": [
    "cont_list=[{\"ID\":1234,\"name\":\"张三\",\"age\":25,\"sex\":\"M\"},\n",
    "           {\"ID\":2234,\"name\":\"李四\",\"age\":54,\"sex\":\"F\"},\n",
    "           {\"ID\":3234,\"name\":\"王五\",\"age\":32,\"sex\":\"M\"},\n",
    "           {\"ID\":4234,\"name\":\"赵六\",\"age\":44,\"sex\":\"F\"},\n",
    "           {\"ID\":5234,\"name\":\"陈七\",\"age\":29,\"sex\":\"M\"},]\n",
    "df=pd.DataFrame(cont_list,columns=[\"ID\",\"name\",\"age\",\"sex\"])\n",
    "df.to_csv(\"name.csv\",index=False)"
   ]
  },
  {
   "cell_type": "code",
   "execution_count": 13,
   "id": "dfd764b3",
   "metadata": {},
   "outputs": [],
   "source": [
    "data=pd.read_csv(\"name.csv\")"
   ]
  },
  {
   "cell_type": "code",
   "execution_count": 14,
   "id": "a9926db7",
   "metadata": {},
   "outputs": [
    {
     "data": {
      "text/html": [
       "<div>\n",
       "<style scoped>\n",
       "    .dataframe tbody tr th:only-of-type {\n",
       "        vertical-align: middle;\n",
       "    }\n",
       "\n",
       "    .dataframe tbody tr th {\n",
       "        vertical-align: top;\n",
       "    }\n",
       "\n",
       "    .dataframe thead th {\n",
       "        text-align: right;\n",
       "    }\n",
       "</style>\n",
       "<table border=\"1\" class=\"dataframe\">\n",
       "  <thead>\n",
       "    <tr style=\"text-align: right;\">\n",
       "      <th></th>\n",
       "      <th>ID</th>\n",
       "      <th>name</th>\n",
       "      <th>age</th>\n",
       "      <th>sex</th>\n",
       "    </tr>\n",
       "  </thead>\n",
       "  <tbody>\n",
       "    <tr>\n",
       "      <th>0</th>\n",
       "      <td>1234</td>\n",
       "      <td>张三</td>\n",
       "      <td>25</td>\n",
       "      <td>M</td>\n",
       "    </tr>\n",
       "    <tr>\n",
       "      <th>1</th>\n",
       "      <td>2234</td>\n",
       "      <td>李四</td>\n",
       "      <td>54</td>\n",
       "      <td>F</td>\n",
       "    </tr>\n",
       "    <tr>\n",
       "      <th>2</th>\n",
       "      <td>3234</td>\n",
       "      <td>王五</td>\n",
       "      <td>32</td>\n",
       "      <td>M</td>\n",
       "    </tr>\n",
       "    <tr>\n",
       "      <th>3</th>\n",
       "      <td>4234</td>\n",
       "      <td>赵六</td>\n",
       "      <td>44</td>\n",
       "      <td>F</td>\n",
       "    </tr>\n",
       "    <tr>\n",
       "      <th>4</th>\n",
       "      <td>5234</td>\n",
       "      <td>陈七</td>\n",
       "      <td>29</td>\n",
       "      <td>M</td>\n",
       "    </tr>\n",
       "  </tbody>\n",
       "</table>\n",
       "</div>"
      ],
      "text/plain": [
       "     ID name  age sex\n",
       "0  1234   张三   25   M\n",
       "1  2234   李四   54   F\n",
       "2  3234   王五   32   M\n",
       "3  4234   赵六   44   F\n",
       "4  5234   陈七   29   M"
      ]
     },
     "execution_count": 14,
     "metadata": {},
     "output_type": "execute_result"
    }
   ],
   "source": [
    "data.head()"
   ]
  },
  {
   "cell_type": "code",
   "execution_count": 31,
   "id": "4c1dc07b",
   "metadata": {},
   "outputs": [],
   "source": [
    "a=\"1234第一次提交\"\n"
   ]
  },
  {
   "cell_type": "code",
   "execution_count": 32,
   "id": "04bcadc7",
   "metadata": {},
   "outputs": [
    {
     "name": "stdout",
     "output_type": "stream",
     "text": [
      "请正确输入注释！注释格式为 --- 工单号:本次修改的内容简述\n",
      "工单号: 1234\n"
     ]
    }
   ],
   "source": [
    "if a.find(\":\")>=0:\n",
    "    loc=a.find(\":\")\n",
    "    num=a[:loc]\n",
    "    if int(num) in list(data['ID']):\n",
    "        print(f\": {num}\")\n",
    "    else:\n",
    "        print(\"未找到工单号，请检查后再次提交\")\n",
    "elif a.find(\"：\")>=0:\n",
    "    loc=a.find(\"：\")\n",
    "    num=a[:loc]\n",
    "    if int(num) in list(data['ID']):\n",
    "        print(f\"工单号: {num}\")\n",
    "    else:\n",
    "        print(\"未找到工单号，请检查后再次提交\")\n",
    "else:\n",
    "    print(\"请正确输入注释！注释格式为 --- 工单号:本次修改的内容简述\")"
   ]
  }
 ],
 "metadata": {
  "kernelspec": {
   "display_name": "Python 3 (ipykernel)",
   "language": "python",
   "name": "python3"
  },
  "language_info": {
   "codemirror_mode": {
    "name": "ipython",
    "version": 3
   },
   "file_extension": ".py",
   "mimetype": "text/x-python",
   "name": "python",
   "nbconvert_exporter": "python",
   "pygments_lexer": "ipython3",
   "version": "3.11.4"
  }
 },
 "nbformat": 4,
 "nbformat_minor": 5
}
